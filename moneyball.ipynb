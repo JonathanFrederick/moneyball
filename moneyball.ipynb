{
 "cells": [
  {
   "cell_type": "markdown",
   "metadata": {},
   "source": [
    "# Moneyball"
   ]
  },
  {
   "cell_type": "code",
   "execution_count": 2,
   "metadata": {
    "collapsed": true
   },
   "outputs": [],
   "source": [
    "import pandas as pd\n",
    "import numpy as np\n",
    "import matplotlib.pyplot as plt\n",
    "import re\n",
    "%matplotlib inline"
   ]
  },
  {
   "cell_type": "code",
   "execution_count": 3,
   "metadata": {
    "collapsed": false
   },
   "outputs": [],
   "source": [
    "all_master = pd.read_csv('data/Master.csv')\n",
    "all_salaries = pd.read_csv('data/Salaries.csv')\n",
    "all_appearances = pd.read_csv('data/Appearances.csv')\n",
    "all_batting = pd.read_csv('data/Batting.csv')\n",
    "batting = all_batting[['playerID', 'yearID', 'teamID', \n",
    "                       'G', 'H', 'BB', 'HBP', 'AB', 'SF']]\n",
    "batting = batting[batting['SF'] > 0]\n",
    "batting = batting[batting['G'] > 20]\n",
    "batting['OBP'] = ((batting['H'] + batting['BB'] + batting['HBP'])/\n",
    "                  (batting['AB'] + batting['BB'] + batting['HBP']\n",
    "                   + batting['SF']))\n",
    "master = all_master[['playerID', 'nameFirst', 'nameLast']]\n",
    "appearances = all_appearances[['playerID', 'yearID', \n",
    "                               'G_p', 'G_c', 'G_1b', \n",
    "                               'G_2b', 'G_3b', 'G_ss', \n",
    "                               'G_lf', 'G_cf', 'G_rf']]\n",
    "salaries = all_salaries[['playerID', 'yearID', 'salary']]\n",
    "merged = pd.merge(pd.merge(pd.merge(master, batting), salaries), appearances)\n",
    "merged['worth'] = merged['OBP'] / merged['salary'] * 1000000\n"
   ]
  },
  {
   "cell_type": "code",
   "execution_count": 18,
   "metadata": {
    "collapsed": false
   },
   "outputs": [],
   "source": [
    "positions = ['G_p', 'G_c', 'G_1b', 'G_2b', 'G_3b', \n",
    "             'G_ss', 'G_lf', 'G_cf', 'G_rf']\n",
    "def build_team(year='2014'):\n",
    "    trimmed = merged[merged['yearID'] == 2014]\n",
    "    trimmed = trimmed.sort('worth', ascending=False)\n",
    "    trimmed.index = trimmed['worth']\n",
    "    team = {}\n",
    "    for i in trimmed.index:\n",
    "        for pos in positions:\n",
    "            if trimmed.loc[i, pos] > 0 and pos not in team:\n",
    "                team[pos] = [trimmed.loc[i, 'nameFirst'],\n",
    "                             trimmed.loc[i, 'nameLast']]\n",
    "                break\n",
    "    return team"
   ]
  },
  {
   "cell_type": "code",
   "execution_count": 24,
   "metadata": {
    "collapsed": false
   },
   "outputs": [
    {
     "name": "stdout",
     "output_type": "stream",
     "text": [
      "G_1b  -  Scott Van Slyke\n",
      "G_2b  -  Josh Harrison\n",
      "G_p   -  Henderson Alvarez\n",
      "G_ss  -  Josh Rutledge\n",
      "G_3b  -  Josh Donaldson\n",
      "G_c   -  Derek Norris\n",
      "G_rf  -  Aaron Hicks\n",
      "G_cf  -  Christian Yelich\n",
      "G_lf  -  Corey Dickerson\n"
     ]
    }
   ],
   "source": [
    "moneyball_team = build_team(year='2001')\n",
    "for player in moneyball_team:\n",
    "    print(player.ljust(4), \" - \", moneyball_team[player][0], moneyball_team[player][1])"
   ]
  },
  {
   "cell_type": "markdown",
   "metadata": {},
   "source": [
    "OBP = (Hits + Bases on Balls(walks) + Hit By Pitch)/(At Bats + Bases on Balls(walks) + Hit By Pitch + Sacrifice Flies)"
   ]
  },
  {
   "cell_type": "markdown",
   "metadata": {
    "collapsed": false
   },
   "source": [
    "## Results\n",
    "\n",
    "With this moneyball algorithm, we take in data on batting, salaries, and positions played.  We calculate the On Base Percentage and then the OBP per dollar.  Giving the program a year, we can get a team that should perform reasonably well while not costing as much."
   ]
  },
  {
   "cell_type": "code",
   "execution_count": null,
   "metadata": {
    "collapsed": false
   },
   "outputs": [],
   "source": []
  },
  {
   "cell_type": "code",
   "execution_count": null,
   "metadata": {
    "collapsed": true
   },
   "outputs": [],
   "source": []
  }
 ],
 "metadata": {
  "kernelspec": {
   "display_name": "Python 3",
   "language": "python",
   "name": "python3"
  },
  "language_info": {
   "codemirror_mode": {
    "name": "ipython",
    "version": 3
   },
   "file_extension": ".py",
   "mimetype": "text/x-python",
   "name": "python",
   "nbconvert_exporter": "python",
   "pygments_lexer": "ipython3",
   "version": "3.4.3"
  }
 },
 "nbformat": 4,
 "nbformat_minor": 0
}
