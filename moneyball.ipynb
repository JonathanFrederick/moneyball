{
 "cells": [
  {
   "cell_type": "code",
   "execution_count": 1,
   "metadata": {
    "collapsed": true
   },
   "outputs": [],
   "source": [
    "import pandas as pd\n",
    "import numpy as np\n",
    "import matplotlib.pyplot as plt\n",
    "import re\n",
    "%matplotlib inline"
   ]
  },
  {
   "cell_type": "code",
   "execution_count": 2,
   "metadata": {
    "collapsed": false
   },
   "outputs": [],
   "source": [
    "all_master = pd.read_csv('data/Master.csv')\n",
    "all_salaries = pd.read_csv('data/Salaries.csv')\n",
    "all_appearances = pd.read_csv('data/Appearances.csv')\n",
    "all_batting = pd.read_csv('data/Batting.csv')\n",
    "batting = all_batting[['playerID', 'yearID', 'teamID', \n",
    "                       'G', 'H', 'BB', 'HBP', 'AB', 'SF']]\n",
    "batting = batting[batting['SF'] > 0]\n",
    "batting = batting[batting['G'] > 20]\n",
    "batting['OBP'] = ((batting['H'] + batting['BB'] + batting['HBP'])/\n",
    "                  (batting['AB'] + batting['BB'] + batting['HBP'] + batting['SF']))\n",
    "master = all_master[['playerID', 'nameFirst', 'nameLast']]\n",
    "appearances = all_appearances[['playerID', 'yearID', \n",
    "                               'G_p', 'G_c', 'G_1b', \n",
    "                               'G_2b', 'G_3b', 'G_ss', \n",
    "                               'G_lf', 'G_cf', 'G_rf']]\n",
    "salaries = all_salaries[['playerID', 'yearID', 'salary']]\n",
    "merged = pd.merge(pd.merge(pd.merge(master, batting), salaries), appearances)\n",
    "merged['worth'] = merged['OBP'] / merged['salary'] * 1000000\n"
   ]
  },
  {
   "cell_type": "code",
   "execution_count": 3,
   "metadata": {
    "collapsed": false
   },
   "outputs": [],
   "source": [
    "positions = ['G_p', 'G_c', 'G_1b', 'G_2b', 'G_3b', \n",
    "             'G_ss', 'G_lf', 'G_cf', 'G_rf']\n",
    "def build_team(year='2014'):\n",
    "    trimmed = merged[merged['yearID'] == 2014]\n",
    "    trimmed = trimmed.sort('worth', ascending=False)\n",
    "    trimmed.index = trimmed['worth']\n",
    "    team = {}\n",
    "    for i in trimmed.index:\n",
    "        for pos in positions:\n",
    "            if trimmed.loc[i, pos] > 0 and pos not in team:\n",
    "                team[pos] = [trimmed.loc[i, ['playerID', \n",
    "                                             'nameFirst', 'nameLast']]]\n",
    "                break\n",
    "    return team"
   ]
  },
  {
   "cell_type": "code",
   "execution_count": 6,
   "metadata": {
    "collapsed": false
   },
   "outputs": [
    {
     "name": "stdout",
     "output_type": "stream",
     "text": [
      "{'G_2b': [playerID     harrijo05\n",
      "nameFirst         Josh\n",
      "nameLast      Harrison\n",
      "Name: 0.675858340092, dtype: object], 'G_3b': [playerID     donaljo02\n",
      "nameFirst         Josh\n",
      "nameLast     Donaldson\n",
      "Name: 0.684892086331, dtype: object], 'G_c': [playerID     norride01\n",
      "nameFirst        Derek\n",
      "nameLast        Norris\n",
      "Name: 0.713948945915, dtype: object], 'G_ss': [playerID     rutlejo01\n",
      "nameFirst         Josh\n",
      "nameLast      Rutledge\n",
      "Name: 0.645593086823, dtype: object], 'G_1b': [playerID     vanslsc01\n",
      "nameFirst        Scott\n",
      "nameLast     Van Slyke\n",
      "Name: 0.760943570027, dtype: object], 'G_cf': [playerID     yelicch01\n",
      "nameFirst    Christian\n",
      "nameLast        Yelich\n",
      "Name: 0.717332007173, dtype: object], 'G_p': [playerID     alvarhe01\n",
      "nameFirst    Henderson\n",
      "nameLast       Alvarez\n",
      "Name: 0.387114256773, dtype: object], 'G_rf': [playerID     hicksaa01\n",
      "nameFirst        Aaron\n",
      "nameLast         Hicks\n",
      "Name: 0.671541231306, dtype: object], 'G_lf': [playerID     dickeco01\n",
      "nameFirst        Corey\n",
      "nameLast     Dickerson\n",
      "Name: 0.728033472803, dtype: object]}\n"
     ]
    }
   ],
   "source": [
    "moneyball_team = build_team(year='2001')\n",
    "print(moneyball_team)"
   ]
  },
  {
   "cell_type": "markdown",
   "metadata": {},
   "source": [
    "OBP = (Hits + Bases on Balls(walks) + Hit By Pitch)/(At Bats + Bases on Balls(walks) + Hit By Pitch + Sacrifice Flies)"
   ]
  },
  {
   "cell_type": "code",
   "execution_count": 5,
   "metadata": {
    "collapsed": false
   },
   "outputs": [
    {
     "data": {
      "text/plain": [
       "<pandas.core.indexing._LocIndexer at 0x10e6ac710>"
      ]
     },
     "execution_count": 5,
     "metadata": {},
     "output_type": "execute_result"
    }
   ],
   "source": [
    "merged.loc"
   ]
  },
  {
   "cell_type": "code",
   "execution_count": null,
   "metadata": {
    "collapsed": false
   },
   "outputs": [],
   "source": []
  },
  {
   "cell_type": "code",
   "execution_count": null,
   "metadata": {
    "collapsed": true
   },
   "outputs": [],
   "source": []
  }
 ],
 "metadata": {
  "kernelspec": {
   "display_name": "Python 3",
   "language": "python",
   "name": "python3"
  },
  "language_info": {
   "codemirror_mode": {
    "name": "ipython",
    "version": 3
   },
   "file_extension": ".py",
   "mimetype": "text/x-python",
   "name": "python",
   "nbconvert_exporter": "python",
   "pygments_lexer": "ipython3",
   "version": "3.4.3"
  }
 },
 "nbformat": 4,
 "nbformat_minor": 0
}
